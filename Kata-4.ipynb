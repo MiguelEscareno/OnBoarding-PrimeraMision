{
 "cells": [
  {
   "cell_type": "markdown",
   "metadata": {},
   "source": [
    "## Ejercicio 1"
   ]
  },
  {
   "cell_type": "code",
   "execution_count": 17,
   "metadata": {},
   "outputs": [
    {
     "data": {
      "text/plain": [
       "['Interesting facts about the Moon',\n",
       " \"The Moon is Earth's only satellite\",\n",
       " 'There are several interesting facts about the Moon and how it affects life here on Earth',\n",
       " 'On average, the Moon moves 4cm away from the Earth every year',\n",
       " 'This yearly drift is not significant enough to cause immediate effects on Earth',\n",
       " 'The highest daylight temperature of the Moon is 127 C.']"
      ]
     },
     "execution_count": 17,
     "metadata": {},
     "output_type": "execute_result"
    }
   ],
   "source": [
    "#text = \"\"\"Interesting facts about the Moon.\\n The Moon is Earth's only satellite.\\n There are several interesting facts about the Moon and how it affects life here on Earth.\\n On average, the Moon moves 4cm away from the Earth every year.\\n This yearly drift is not significant enough to cause immediate effects on Earth.\\n The highest daylight temperature of the Moon is 127 C.\"\"\"\n",
    "#print(text)\n",
    "\n",
    "text = \"\"\"Interesting facts about the Moon. The Moon is Earth's only satellite. There are several interesting facts about the Moon and how it affects life here on Earth. On average, the Moon moves 4cm away from the Earth every year. This yearly drift is not significant enough to cause immediate effects on Earth. The highest daylight temperature of the Moon is 127 C.\"\"\"\n",
    "text_parts = text.split('. ')\n",
    "text_parts"
   ]
  },
  {
   "cell_type": "code",
   "execution_count": 25,
   "metadata": {},
   "outputs": [],
   "source": [
    "#text2 = \"\"\"Interesting facts about the Moon.\\n The Moon is Earth's only satellite.\\n There are several interesting facts about the Moon and how it affects life here on Earth.\\n On average, the Moon moves 4cm away from the Earth every year.\\n This yearly drift is not significant enough to cause immediate effects on Earth.\\n The highest daylight temperature of the Moon is 127 C.\"\"\"\n",
    "#text.find('average')\n",
    "#text.count('average')\n",
    "\n",
    "#text1.find(\"temperature\")\n",
    "#text1.count(\"temperature\")\n",
    "\n",
    "#text2.find(\"distance\")\n",
    "#text2.count(\"distance\")\n",
    "\n",
    "key_words = [\"average\", \"temperature\", \"distance\"]"
   ]
  },
  {
   "cell_type": "code",
   "execution_count": 14,
   "metadata": {},
   "outputs": [
    {
     "data": {
      "text/plain": [
       "['Mars Average Temperature', ' -60 C']"
      ]
     },
     "execution_count": 14,
     "metadata": {},
     "output_type": "execute_result"
    }
   ],
   "source": [
    "temperatures = 'Mars Average Temperature: -60 C'\n",
    "\n",
    "partsparts = temperatures.split(':')\n",
    "partsparts"
   ]
  },
  {
   "cell_type": "code",
   "execution_count": 29,
   "metadata": {},
   "outputs": [
    {
     "name": "stdout",
     "output_type": "stream",
     "text": [
      "Interesting facts about the Moon\n",
      "The Moon is Earth's only satellite\n",
      "There are several interesting facts about the Moon and how it affects life here on Earth\n",
      "On average, the Moon moves 4cm away from the Earth every year\n",
      "This yearly drift is not significant enough to cause immediate effects on Earth\n",
      "The highest daylight temperature of the Moon is 127 Celsius.\n"
     ]
    }
   ],
   "source": [
    "#mars_temperature = 'The highest temperature on Mars is about 30 C'\n",
    "#for item in mars_temperature.split():\n",
    "    #if item.isnumeric():\n",
    "        #print(item)\n",
    "\n",
    "#text2 = \"\"\"Interesting facts about the Moon.\\n The Moon is Earth's only satellite.\\n There are several interesting facts about the Moon and how it affects life here on Earth.\\n On average, the Moon moves 4cm away from the Earth every year.\\n This yearly drift is not significant enough to cause immediate effects on Earth.\\n The highest daylight temperature of the Moon is 127 C.\"\"\"\n",
    "#for item in text2.split():\n",
    "    #if item.replace('C', 'Celsius'):\n",
    "        #print(text2)\n",
    "\n",
    "#Palabras clave en cada sentencia\n",
    "#for sentence in text_parts:\n",
    "    #for key_word in key_words:\n",
    "        #if key_word in sentence:\n",
    "            #print(sentence)\n",
    "            #break\n",
    "\n",
    "for sentence in text_parts:\n",
    "    print(sentence.replace(' C', ' Celsius'))"
   ]
  },
  {
   "cell_type": "markdown",
   "metadata": {},
   "source": [
    "## Ejercicio 2"
   ]
  },
  {
   "cell_type": "code",
   "execution_count": 33,
   "metadata": {},
   "outputs": [
    {
     "name": "stdout",
     "output_type": "stream",
     "text": [
      "Gravity On The Moon\n",
      "--------------------------------------------------------------------------------\n",
      "Nombre del planeta: Earth\n",
      "Gravedad en Moon: 1.6199999999999999 km/s\n",
      "\n"
     ]
    }
   ],
   "source": [
    "name = \"Moon\"\n",
    "gravity = 0.00162 # in kms\n",
    "planet = \"Earth\"\n",
    "\n",
    "#Gravedad en la Tierra y en la Luna\n",
    "titulo=f'Gravity on the {name}'\n",
    "\n",
    "#Plantilla\n",
    "informacion = f\"\"\"{'-'*80}\n",
    "Planet name: {planet}\n",
    "Gravity on the {name}: {gravity * 1000} km/s\n",
    "\"\"\"\n",
    "plantilla= f\"\"\"{titulo.title()}\n",
    "{informacion}\"\"\"\n",
    "\n",
    "print(plantilla)"
   ]
  },
  {
   "cell_type": "code",
   "execution_count": 35,
   "metadata": {},
   "outputs": [
    {
     "name": "stdout",
     "output_type": "stream",
     "text": [
      "Gravity On Ganimedes\n",
      "--------------------------------------------------------------------------------\n",
      "Planet name: Mars\n",
      "Gravity on the Ganimedes: 1.4300000000000002 km/s\n",
      "\n"
     ]
    }
   ],
   "source": [
    "name = \"Ganimedes\"\n",
    "gravity = 0.00143 # in kms\n",
    "planet = \"Mars\"\n",
    "\n",
    "#Gravedad en la Tierra y en la Luna\n",
    "titulo=f'Gravity on {name}'\n",
    "\n",
    "#Plantilla\n",
    "informacion = f\"\"\"{'-'*80}\n",
    "Planet name: {planet}\n",
    "Gravity on the {name}: {gravity * 1000} km/s\n",
    "\"\"\"\n",
    "plantilla= f\"\"\"{titulo.title()}\n",
    "{informacion}\"\"\"\n",
    "\n",
    "print(plantilla)"
   ]
  }
 ],
 "metadata": {
  "interpreter": {
   "hash": "a48ef4588860d3d410a4961e4cc8aa9a88362f948f9b7d2a29a238d5a71f4012"
  },
  "kernelspec": {
   "display_name": "Python 3.10.2 64-bit (windows store)",
   "language": "python",
   "name": "python3"
  },
  "language_info": {
   "codemirror_mode": {
    "name": "ipython",
    "version": 3
   },
   "file_extension": ".py",
   "mimetype": "text/x-python",
   "name": "python",
   "nbconvert_exporter": "python",
   "pygments_lexer": "ipython3",
   "version": "3.10.2"
  },
  "orig_nbformat": 4
 },
 "nbformat": 4,
 "nbformat_minor": 2
}
