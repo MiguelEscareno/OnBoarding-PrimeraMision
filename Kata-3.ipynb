{
 "cells": [
  {
   "cell_type": "code",
   "execution_count": 3,
   "metadata": {},
   "outputs": [
    {
     "name": "stdout",
     "output_type": "stream",
     "text": [
      "Advertencia!!\n"
     ]
    }
   ],
   "source": [
    "velocidad=49\n",
    "if velocidad>25:\n",
    "    print(\"Advertencia!!\")\n",
    "\n",
    "else:\n",
    "    print(\"No hay riesgo\")"
   ]
  },
  {
   "cell_type": "code",
   "execution_count": null,
   "metadata": {},
   "outputs": [],
   "source": [
    "velocidad=19\n",
    "luzasteroide=False\n",
    "if velocidad >= 20:\n",
    "    if luzasteroide==True:\n",
    "        print(\"Deben buscar un asteroide en el cielo!\")\n",
    "    else:\n",
    "        print(\"No hay nada\")\n",
    "else:\n",
    "    print(\"El asteroide se dirige a la tierra\")"
   ]
  },
  {
   "cell_type": "code",
   "execution_count": 7,
   "metadata": {},
   "outputs": [
    {
     "name": "stdout",
     "output_type": "stream",
     "text": [
      "Un asteroide entro a la atmosfera a una velocidad alarmante\n"
     ]
    }
   ],
   "source": [
    "velocidadasteriode=20\n",
    "tamanoasteroide=25\n",
    "luzasteroide=False\n",
    "dentroatmosfera=True\n",
    "\n",
    "if velocidadasteriode >25:\n",
    "    print(\"Un asteroide se acerca demasiado rapido a la atmosfera!\")\n",
    "elif velocidadasteriode >=20 and dentroatmosfera == True:\n",
    "    if luzasteroide==True:\n",
    "        print(\"Buscar asteroide en el cielo!\")\n",
    "    else:\n",
    "        print(\"Un asteroide entro a la atmosfera a una velocidad alarmante\")\n",
    "elif tamanoasteroide > 25 and tamanoasteroide <1000 and dentroatmosfera==True:\n",
    "    print(\"Un asteroide demasiado grande entro a la atmosfera y podria causar mucho daño\")\n",
    "elif tamanoasteroide < 25 and dentroatmosfera==True:\n",
    "    print(\"El asteroide se puede quemar entrando a la atmosfera\")\n",
    "else:\n",
    "    print(\"Un asteroide se dirige a la Tierra pero no hay riesgo\")\n",
    "\n",
    "\n",
    "\n",
    "\n",
    "\n"
   ]
  }
 ],
 "metadata": {
  "interpreter": {
   "hash": "c2162bde8eeb14dfd9c7742f3596c73464ca0724786709d14167b87db50c8fed"
  },
  "kernelspec": {
   "display_name": "Python 3.10.2 64-bit",
   "language": "python",
   "name": "python3"
  },
  "language_info": {
   "codemirror_mode": {
    "name": "ipython",
    "version": 3
   },
   "file_extension": ".py",
   "mimetype": "text/x-python",
   "name": "python",
   "nbconvert_exporter": "python",
   "pygments_lexer": "ipython3",
   "version": "3.10.2"
  },
  "orig_nbformat": 4
 },
 "nbformat": 4,
 "nbformat_minor": 2
}
